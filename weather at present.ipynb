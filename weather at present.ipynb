{
 "cells": [
  {
   "cell_type": "markdown",
   "metadata": {},
   "source": [
    "# WHAT IS THE WEATHER OF A PARTICULAR CITY AT PRESENT?"
   ]
  },
  {
   "cell_type": "code",
   "execution_count": 1,
   "metadata": {},
   "outputs": [
    {
     "name": "stdin",
     "output_type": "stream",
     "text": [
      "enter name of city ajmer\n"
     ]
    },
    {
     "name": "stdout",
     "output_type": "stream",
     "text": [
      "ajmer : \n",
      "   Weather: Clouds  \n",
      "temperature: 32.98000000000002\n"
     ]
    }
   ],
   "source": [
    "import requests as rs\n",
    "import json\n",
    "city1={}\n",
    "city=input(\"enter name of city\")\n",
    "gh=rs.get(\"http://api.openweathermap.org/data/2.5/weather?q=\"+city+\"&APPID=e59ef296e3f751fe54fd030ef1c9c0de\").content\n",
    "data=json.loads(gh)\n",
    "print(city,\":\",\"\\n\",\" \",\"Weather:\",data[\"weather\"][0][\"main\"],\"\",\"\\n\"\"temperature:\",(data[\"main\"][\"temp\"])-273)\n",
    "with open(\"city_database.txt\",\"w+\") as p:\n",
    "    p.write(json.dumps(data))\n",
    "    \n"
   ]
  },
  {
   "cell_type": "code",
   "execution_count": 5,
   "metadata": {},
   "outputs": [],
   "source": [
    "# HJJ"
   ]
  },
  {
   "cell_type": "code",
   "execution_count": null,
   "metadata": {},
   "outputs": [],
   "source": []
  }
 ],
 "metadata": {
  "kernelspec": {
   "display_name": "Python 3",
   "language": "python",
   "name": "python3"
  },
  "language_info": {
   "codemirror_mode": {
    "name": "ipython",
    "version": 3
   },
   "file_extension": ".py",
   "mimetype": "text/x-python",
   "name": "python",
   "nbconvert_exporter": "python",
   "pygments_lexer": "ipython3",
   "version": "3.7.3"
  }
 },
 "nbformat": 4,
 "nbformat_minor": 2
}
